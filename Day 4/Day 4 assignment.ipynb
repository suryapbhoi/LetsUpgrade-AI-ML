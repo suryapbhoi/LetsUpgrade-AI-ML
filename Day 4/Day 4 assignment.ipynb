{
 "cells": [
  {
   "cell_type": "markdown",
   "metadata": {},
   "source": [
    "### Day 4 assignments"
   ]
  },
  {
   "cell_type": "markdown",
   "metadata": {},
   "source": [
    "#### Q1. Research on whether addition, subtraction, multiplication, division, floor division and modulo operations be performed on complex numbers. Based on your study, implement a Python program to demonstrate these operations."
   ]
  },
  {
   "cell_type": "markdown",
   "metadata": {},
   "source": [
    "Based on my research: addition, subtraction, multiplication and division can be performed on complex numbers.\n",
    "However, floor division and modulo operation cannot be performed on complex numbers.\n",
    "\n",
    "See below program for implementation:"
   ]
  },
  {
   "cell_type": "code",
   "execution_count": 23,
   "metadata": {},
   "outputs": [
    {
     "name": "stdout",
     "output_type": "stream",
     "text": [
      "Addition of the two complex numbers:  (9+9j)\n",
      "Subtraction of the two complex numbers:  (1+3j)\n",
      "Multiplication of the two complex numbers:  (2+39j)\n",
      "Division of the two complex numbers:  (1.52+0.36j)\n",
      "Exception occured for floor division of complex numbers:  can't take floor of complex number.\n",
      "Exception occured for modulus operation of complex numbers:  can't mod complex numbers.\n"
     ]
    }
   ],
   "source": [
    "c1 = complex(5,6)\n",
    "c2 = complex(4,3)\n",
    "\n",
    "print(\"Addition of the two complex numbers: \", c1+c2)\n",
    "print(\"Subtraction of the two complex numbers: \", c1-c2)\n",
    "print(\"Multiplication of the two complex numbers: \", c1*c2)\n",
    "print(\"Division of the two complex numbers: \", c1/c2)\n",
    "\n",
    "try:\n",
    "    print(\"Floor Division of the two complex numbers: \", c1//c2)\n",
    "except Exception as e:\n",
    "    print(\"Exception occured for floor division of complex numbers: \" ,e)\n",
    "    \n",
    "try:\n",
    "    print(\"Modulus operation on the two complex numbers: \", c1%c2)\n",
    "except Exception as e:\n",
    "    print(\"Exception occured for modulus operation of complex numbers: \", e)"
   ]
  },
  {
   "cell_type": "markdown",
   "metadata": {},
   "source": [
    "\n",
    "#### Q2. Research on range() functions and its parameters. Create a markdown cell and write in your own words (no copy-paste from google please) what you understand about it. Implement a small program of your choice on the same."
   ]
  },
  {
   "cell_type": "markdown",
   "metadata": {},
   "source": [
    "The range() in Python returns a sequence of numbers (i.e., it returns a range object. It can be a tuple, list)\n",
    "\n",
    "The range() accepts three parameters. Out of which the first and third are option, and the second parameter is manadatory. Lets say the three parameters are: start_param, stop_param and step_param.\n",
    "1. start_param: This is optional. This specifies the starting value of the returned sequence. Default is 0, if not specified.\n",
    "2. stop_param: This is mandatory. This specifies the end value of the sequence, but is not included in the sequence.\n",
    "3. step_param: This is optional. Default is 1. thsi specifies the difference between the subsequent values in the sequence.\n",
    "\n",
    "See below program for more details:\n"
   ]
  },
  {
   "cell_type": "code",
   "execution_count": 24,
   "metadata": {},
   "outputs": [
    {
     "name": "stdout",
     "output_type": "stream",
     "text": [
      "(0, 1, 2, 3)\n",
      "[1, 2, 3]\n",
      "(1, 3)\n"
     ]
    }
   ],
   "source": [
    "range_1 = range(4) # 4 is the stop_param here. But, it is not inluded in the range. The output range is a tuple.\n",
    "print(tuple(range_1))\n",
    "\n",
    "range_2 = range(1, 4) # Here, start_param is 1. 4 is the stop_param here. The output range is a list.\n",
    "print(list(range_2))\n",
    "\n",
    "range_3 = range(1,4,2)# Here, start_param is 1, 4 is the stop_param here, 2 is the step_param. The output range is a tuple.\n",
    "print(tuple(range_3))"
   ]
  },
  {
   "cell_type": "markdown",
   "metadata": {},
   "source": [
    "\n",
    "#### Q3.  Consider two numbers. Perform their subtraction and if the result of subtraction is greater than 25, print their multiplication result else print their division result.\n"
   ]
  },
  {
   "cell_type": "code",
   "execution_count": 25,
   "metadata": {},
   "outputs": [
    {
     "name": "stdout",
     "output_type": "stream",
     "text": [
      "1375\n"
     ]
    }
   ],
   "source": [
    "a = 55\n",
    "b = 25\n",
    "\n",
    "if ((a-b) > 25) or ((b-a) > 25):\n",
    "    print(a*b)\n",
    "else:\n",
    "    print(a/b)"
   ]
  },
  {
   "cell_type": "code",
   "execution_count": 26,
   "metadata": {},
   "outputs": [
    {
     "name": "stdout",
     "output_type": "stream",
     "text": [
      "1375\n"
     ]
    }
   ],
   "source": [
    "a = 25\n",
    "b = 55\n",
    "\n",
    "if ((a-b) > 25) or ((b-a) > 25):\n",
    "    print(a*b)\n",
    "else:\n",
    "    print(a/b)"
   ]
  },
  {
   "cell_type": "code",
   "execution_count": 27,
   "metadata": {},
   "outputs": [
    {
     "name": "stdout",
     "output_type": "stream",
     "text": [
      "1.2222222222222223\n"
     ]
    }
   ],
   "source": [
    "a = 55\n",
    "b = 45\n",
    "\n",
    "if ((a-b) > 25) or ((b-a) > 25):\n",
    "    print(a*b)\n",
    "else:\n",
    "    print(a/b)"
   ]
  },
  {
   "cell_type": "markdown",
   "metadata": {},
   "source": [
    "\n",
    "#### Q4. Consider a list of 10 elements of integer values. If the number in the list is divisible by 2, print the result as \"square of that number minus 2\".\n"
   ]
  },
  {
   "cell_type": "code",
   "execution_count": 28,
   "metadata": {},
   "outputs": [
    {
     "name": "stdout",
     "output_type": "stream",
     "text": [
      "Original list is: [1, 2, 3, 4, 5, 6, 7, 8, 9, 10]\n",
      "\n",
      "Output after the program logic:\n",
      "1\n",
      "2\n",
      "3\n",
      "14\n",
      "5\n",
      "34\n",
      "7\n",
      "62\n",
      "9\n",
      "98\n"
     ]
    }
   ],
   "source": [
    "a = range(1,11)\n",
    "print(\"Original list is:\" ,list(a))\n",
    "\n",
    "print(\"\\nOutput after the program logic:\")\n",
    "for i in a:\n",
    "    if (i%2 == 0):\n",
    "        print((i**2)-2)\n",
    "    else:\n",
    "        print(i)"
   ]
  },
  {
   "cell_type": "markdown",
   "metadata": {},
   "source": [
    "#### Q5. Consider a list of 10 elements. Print all the elements in the list which are greater than 7 when that number is divided 2."
   ]
  },
  {
   "cell_type": "code",
   "execution_count": 29,
   "metadata": {},
   "outputs": [
    {
     "name": "stdout",
     "output_type": "stream",
     "text": [
      "Original list is: [55, 4, 19, 2, 8, 88, 57, 96, 25, 5]\n",
      "\n",
      "The requied numbers after the program logic:\n",
      "55\n",
      "19\n",
      "88\n",
      "57\n",
      "96\n",
      "25\n"
     ]
    }
   ],
   "source": [
    "a = [55, 4, 19, 2, 8, 88, 57, 96, 25, 5]\n",
    "print(\"Original list is:\" ,a)\n",
    "\n",
    "print(\"\\nThe requied numbers after the program logic:\")\n",
    "for i in a:\n",
    "    if((i/2) > 7):\n",
    "        print(i)"
   ]
  }
 ],
 "metadata": {
  "kernelspec": {
   "display_name": "Python 3",
   "language": "python",
   "name": "python3"
  },
  "language_info": {
   "codemirror_mode": {
    "name": "ipython",
    "version": 3
   },
   "file_extension": ".py",
   "mimetype": "text/x-python",
   "name": "python",
   "nbconvert_exporter": "python",
   "pygments_lexer": "ipython3",
   "version": "3.6.5"
  }
 },
 "nbformat": 4,
 "nbformat_minor": 2
}
