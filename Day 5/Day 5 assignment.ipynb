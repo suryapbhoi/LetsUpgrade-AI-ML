{
 "cells": [
  {
   "cell_type": "markdown",
   "metadata": {},
   "source": [
    "### Day 5 assignments"
   ]
  },
  {
   "cell_type": "markdown",
   "metadata": {},
   "source": [
    "#### Q1. Write a Python program to find the first 20 non-even prime natural numbers."
   ]
  },
  {
   "cell_type": "code",
   "execution_count": 51,
   "metadata": {},
   "outputs": [
    {
     "name": "stdout",
     "output_type": "stream",
     "text": [
      "The first 20 non-even natural prime numbers are:\n",
      "3\n",
      "5\n",
      "7\n",
      "11\n",
      "13\n",
      "17\n",
      "19\n",
      "23\n",
      "29\n",
      "31\n",
      "37\n",
      "41\n",
      "43\n",
      "47\n",
      "53\n",
      "59\n",
      "61\n",
      "67\n",
      "71\n",
      "73\n"
     ]
    }
   ],
   "source": [
    "a = range(0, 999999)\n",
    "count = 0\n",
    "\n",
    "print(\"The first 20 non-even natural prime numbers are:\")\n",
    "for num in a:    \n",
    "    if (num > 1) and (num%2 == 1):\n",
    "        for i in range(2,num):\n",
    "            if(num%i==0):\n",
    "                break\n",
    "        else:\n",
    "            print(num)\n",
    "            count=count+1\n",
    "    if count >= 20:\n",
    "        break\n",
    "        "
   ]
  },
  {
   "cell_type": "markdown",
   "metadata": {},
   "source": [
    "\n",
    "#### Q2. Write a Python program to implement 15 functions of string.\n"
   ]
  },
  {
   "cell_type": "code",
   "execution_count": 52,
   "metadata": {},
   "outputs": [
    {
     "name": "stdout",
     "output_type": "stream",
     "text": [
      "hello world\n",
      "HELLO WORLD\n",
      "hELLO wORLD\n",
      "5\n",
      "Is  hello alpha? True\n",
      "Is  hello123 alpha? False\n",
      "Is  123 digit? True\n",
      "Is  hello123 digit? False\n",
      "Is  123abc45 alphanumeric? True\n",
      "Is  123## alphanumeric? False\n",
      "True\n",
      "False\n",
      "True\n",
      "False\n",
      "Hi, Good evening\n",
      "9\n",
      "2\n",
      "INDIA*****\n",
      "******INDIA\n",
      "INDIA\n",
      "['Hello', 'how', 'are', 'you']\n"
     ]
    }
   ],
   "source": [
    "#lower() --> Converts a string into lower case\n",
    "str1 = \"HELLO WORLD\"\n",
    "print(str1.lower())\n",
    "\n",
    "#upper() --> Converts a string into upper case\n",
    "str2 = \"hello world\"\n",
    "print(str2.upper())\n",
    "\n",
    "#swapcase() --> \tSwaps cases, lower case becomes upper case and vice versa\n",
    "str3 = \"Hello World\"\n",
    "print(str3.swapcase())\n",
    "\n",
    "#len() --> Returns the number of characters in the string\n",
    "str4 = \"Hello\"\n",
    "print(len(str4))\n",
    "\n",
    "#isalpha() --> Returns True if all characters in the string are alphabets\n",
    "str5 = \"hello\"\n",
    "str6 = \"hello123\"\n",
    "print(\"Is \", str5, \"alpha?\", str5.isalpha())\n",
    "print(\"Is \", str6, \"alpha?\", str6.isalpha())\n",
    "\n",
    "#isdigit() --> Returns True if all characters in the string are digits\n",
    "str7 = \"123\"\n",
    "str8 = \"hello123\"\n",
    "print(\"Is \", str7, \"digit?\", str7.isdigit())\n",
    "print(\"Is \", str8, \"digit?\", str8.isdigit())\n",
    "\n",
    "#isalnum() --> Check if all the characters in the text are alphanumeric\n",
    "str9 = \"123abc45\"\n",
    "str10 = \"123##\"\n",
    "print(\"Is \", str9, \"alphanumeric?\", str9.isalnum())\n",
    "print(\"Is \", str10, \"alphanumeric?\", str10.isalnum())\n",
    "\n",
    "#islower() --> Returns True if all characters in the string are lower case\n",
    "str11 =\"hello\"\n",
    "str12 = \"Hello\"\n",
    "print(str11.islower())\n",
    "print(str12.islower())\n",
    "\n",
    "#isupper() --> Returns True if all characters in the string are upper case\n",
    "str13 =\"HELLO\"\n",
    "str14 = \"Hello\"\n",
    "print(str13.isupper())\n",
    "print(str14.isupper())\n",
    "\n",
    "#replace() --> Returns a string where a specified value is replaced with a specified value\n",
    "str15 = \"Hi, Good morning\"\n",
    "print(str15.replace('morning', 'evening'))\n",
    "\n",
    "#find() --> Searches the string for a specified value and returns the position of where it was found\n",
    "print(str15.find('morning'))\n",
    "\n",
    "#count() --> Returns the number of times a specified value occurs in a string\n",
    "str16 = \"India is my country. India is great\"\n",
    "print(str16.count('India'))\n",
    "\n",
    "#lstrip() --> Returns a left trim version of the string, w.rt. the specified character on both sides\n",
    "str17 = \"******INDIA*****\"\n",
    "print(str17.lstrip('*'))\n",
    "\n",
    "#rstrip() --> Returns a right trim version of the string, w.rt. the specified character on both sides\n",
    "print(str17.rstrip('*'))\n",
    "\n",
    "#strip() --> Returns a trimmed version of the string, w.rt. the specified character on both sides\n",
    "print(str17.strip('*'))\n",
    "\n",
    "#split --> Splits the string at the specified separator, and returns a list\n",
    "str18 = \"Hello how are you\"\n",
    "print(str18.split(\" \"))\n"
   ]
  },
  {
   "cell_type": "markdown",
   "metadata": {},
   "source": [
    "#### Q3. Write a Python program to check if the given string is a Palindrome or Anagram or None of them. Display the message accordingly to the user."
   ]
  },
  {
   "cell_type": "code",
   "execution_count": 53,
   "metadata": {},
   "outputs": [
    {
     "name": "stdout",
     "output_type": "stream",
     "text": [
      "Enter teh first string to verify if it is Palindrome or not: \n",
      "Malayalam\n",
      "Enter the second string to verify if it is Anagram with first string: \n",
      "malayalam\n",
      "The first string is Palindrome\n",
      "The two strings are anagrams\n"
     ]
    }
   ],
   "source": [
    "print(\"Enter teh first string to verify if it is Palindrome or not: \")\n",
    "str1 = input()\n",
    "\n",
    "print(\"Enter the second string to verify if it is Anagram with first string: \")\n",
    "str2 = input()\n",
    "\n",
    "str1= str1.lower()\n",
    "\n",
    "str1_rev = str1[::-1]\n",
    "\n",
    "if(str1 == str1_rev):\n",
    "    print(\"The first string is Palindrome\")\n",
    "else:\n",
    "    print(\"The first string is not palindrome\")\n",
    "    \n",
    "if (sorted(str1) == sorted(str2)):\n",
    "    print(\"The two strings are anagrams\")\n",
    "else:\n",
    "    print(\"The two strings are not anagrams\")"
   ]
  },
  {
   "cell_type": "markdown",
   "metadata": {},
   "source": [
    "#### Q4. Write a Python's user defined function that removes all the additional characters from the string and converts it finally to lower case using built-in lower(). eg: If the string is \"Dr. Darshan Ingle @AI-ML Trainer\", then the output be \"drdarshaningleaimltrainer\"."
   ]
  },
  {
   "cell_type": "code",
   "execution_count": 54,
   "metadata": {},
   "outputs": [],
   "source": [
    "def fn_removespecialandlower(str):\n",
    "    new_str = \"\"\n",
    "    \n",
    "    for character in str:\n",
    "        if character.isalnum():\n",
    "            new_str+=character\n",
    "    \n",
    "    return new_str.lower()"
   ]
  },
  {
   "cell_type": "code",
   "execution_count": 55,
   "metadata": {},
   "outputs": [
    {
     "name": "stdout",
     "output_type": "stream",
     "text": [
      "drdarshaningleaimltrainer\n"
     ]
    }
   ],
   "source": [
    "my_string = \"Dr. Darshan Ingle @AI-ML Trainer\"\n",
    "new_string = fn_removespecialandlower(my_string)\n",
    "print(new_string)\n"
   ]
  }
 ],
 "metadata": {
  "kernelspec": {
   "display_name": "Python 3",
   "language": "python",
   "name": "python3"
  },
  "language_info": {
   "codemirror_mode": {
    "name": "ipython",
    "version": 3
   },
   "file_extension": ".py",
   "mimetype": "text/x-python",
   "name": "python",
   "nbconvert_exporter": "python",
   "pygments_lexer": "ipython3",
   "version": "3.6.5"
  }
 },
 "nbformat": 4,
 "nbformat_minor": 2
}
