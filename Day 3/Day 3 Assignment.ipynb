{
 "cells": [
  {
   "cell_type": "markdown",
   "metadata": {},
   "source": [
    "## Day 3 Assignments"
   ]
  },
  {
   "cell_type": "markdown",
   "metadata": {},
   "source": [
    "#### Q1. Write a program to subtract two complex numbers in Python. "
   ]
  },
  {
   "cell_type": "code",
   "execution_count": 24,
   "metadata": {},
   "outputs": [
    {
     "name": "stdout",
     "output_type": "stream",
     "text": [
      "(-1-1j)\n"
     ]
    }
   ],
   "source": [
    "c1 = complex(5,6)\n",
    "c2 = complex(6,7)\n",
    "\n",
    "csub = c1 - c2\n",
    "print(csub)"
   ]
  },
  {
   "cell_type": "markdown",
   "metadata": {},
   "source": [
    "\n",
    "#### Q2. Write a program to find the fourth root of a number."
   ]
  },
  {
   "cell_type": "code",
   "execution_count": 25,
   "metadata": {},
   "outputs": [
    {
     "name": "stdout",
     "output_type": "stream",
     "text": [
      "4.0\n"
     ]
    }
   ],
   "source": [
    "num = 256\n",
    "\n",
    "fourth_root = num ** (1/4)\n",
    "\n",
    "print(fourth_root)"
   ]
  },
  {
   "cell_type": "markdown",
   "metadata": {},
   "source": [
    "\n",
    "#### Q3. Write a program to swap two numbers in Python with the help of a temporary variable.\n"
   ]
  },
  {
   "cell_type": "code",
   "execution_count": 26,
   "metadata": {},
   "outputs": [
    {
     "name": "stdout",
     "output_type": "stream",
     "text": [
      "Before swap:  10   15\n",
      "After swap:  15   10\n"
     ]
    }
   ],
   "source": [
    "val1 = 10\n",
    "val2 = 15\n",
    "\n",
    "print(\"Before swap: \" , val1 , \" \", val2)\n",
    "\n",
    "temp = val1\n",
    "val1 = val2\n",
    "val2 = temp\n",
    "\n",
    "print(\"After swap: \" , val1 , \" \", val2)"
   ]
  },
  {
   "cell_type": "markdown",
   "metadata": {},
   "source": [
    "\n",
    "#### Q4. Write a program to swap two numbers in Python without using a temporary variable."
   ]
  },
  {
   "cell_type": "code",
   "execution_count": 27,
   "metadata": {},
   "outputs": [
    {
     "name": "stdout",
     "output_type": "stream",
     "text": [
      "Before swap:  10   15\n",
      "After swap:  15   10\n"
     ]
    }
   ],
   "source": [
    "val1 = 10\n",
    "val2 = 15\n",
    "\n",
    "print(\"Before swap: \" , val1 , \" \", val2)\n",
    "\n",
    "val1 = val1 + val2\n",
    "val2 = val1 - val2\n",
    "val1 = val1 - val2\n",
    "\n",
    "print(\"After swap: \" , val1 , \" \", val2)"
   ]
  },
  {
   "cell_type": "markdown",
   "metadata": {},
   "source": [
    "\n",
    "#### Q5. Write a program to convert fahrenheit to kelvin and celsius both."
   ]
  },
  {
   "cell_type": "code",
   "execution_count": 28,
   "metadata": {},
   "outputs": [
    {
     "name": "stdout",
     "output_type": "stream",
     "text": [
      "In Fahrenheit:  100\n",
      "In Celsius:  37.77777777777778\n",
      "In Kelvin:  310.77777777777777\n"
     ]
    }
   ],
   "source": [
    "temp_fahrenheit = 100\n",
    "\n",
    "temp_celsius = (5/9) * (temp_fahrenheit - 32)\n",
    "\n",
    "temp_kelvin = (5/9) * (temp_fahrenheit - 32) + 273\n",
    "\n",
    "print(\"In Fahrenheit: \" ,temp_fahrenheit)\n",
    "print(\"In Celsius: \" ,temp_celsius)\n",
    "print(\"In Kelvin: \" ,temp_kelvin)"
   ]
  },
  {
   "cell_type": "markdown",
   "metadata": {},
   "source": [
    "#### Q6. Write a program to demonstrate all the available data types in Python. Hint: Use type() function.\n"
   ]
  },
  {
   "cell_type": "code",
   "execution_count": 29,
   "metadata": {},
   "outputs": [
    {
     "name": "stdout",
     "output_type": "stream",
     "text": [
      "10 is of type <class 'int'>\n",
      "20.5 is of type <class 'float'>\n",
      "30j is of type <class 'complex'>\n",
      "Hello is of type <class 'str'>\n",
      "True is of type <class 'bool'>\n",
      "(1, 2, 3) is of type <class 'tuple'>\n",
      "{1, 2, 3} is of type <class 'set'>\n",
      "[1, 2, 3] is of type <class 'list'>\n",
      "{1: 'a', 2: 'b'} is of type <class 'dict'>\n"
     ]
    }
   ],
   "source": [
    "a = 10\n",
    "b = 20.5\n",
    "c = 30j\n",
    "d = \"Hello\"\n",
    "e = True\n",
    "f = (1,2,3)\n",
    "g = {1,2,3}\n",
    "h = [1,2,3]\n",
    "i = {1:'a', 2:'b'}\n",
    "\n",
    "print(a, \"is of type\", type(a))\n",
    "print(b, \"is of type\", type(b))\n",
    "print(c, \"is of type\", type(c))\n",
    "print(d, \"is of type\", type(d))\n",
    "print(e, \"is of type\", type(e))\n",
    "print(f, \"is of type\", type(f))\n",
    "print(g, \"is of type\", type(g))\n",
    "print(h, \"is of type\", type(h))\n",
    "print(i, \"is of type\", type(i))\n"
   ]
  },
  {
   "cell_type": "markdown",
   "metadata": {},
   "source": [
    "\n",
    "#### Q7. Create a Markdown cell in jupyter and list the steps discussed in the session by Dr. Darshan Ingle sir to create Github profile and upload Githubs Assignment link."
   ]
  },
  {
   "cell_type": "markdown",
   "metadata": {},
   "source": [
    "Below are steps discussed by Darshan Sir to upload LetsUpgrade assignments:\n",
    "    \n",
    "    1. Write the assignment solutions using jupyter notebook or Google colab\n",
    "    2. Save the notebook (.ipynb format) into your local machine, by creating daywise folders (e.g., Day 3)\n",
    "    3. Sign Up for an account in github.com\n",
    "    4. Create a replository named 'LetsUpgrade AI/ML'\n",
    "    5. Drag the Daywise folder e.g., 'Day 3' into the 'LetsUpgrade AL/ML' repository\n",
    "    6. Click on 'Commit Changes'"
   ]
  }
 ],
 "metadata": {
  "kernelspec": {
   "display_name": "Python 3",
   "language": "python",
   "name": "python3"
  },
  "language_info": {
   "codemirror_mode": {
    "name": "ipython",
    "version": 3
   },
   "file_extension": ".py",
   "mimetype": "text/x-python",
   "name": "python",
   "nbconvert_exporter": "python",
   "pygments_lexer": "ipython3",
   "version": "3.6.5"
  }
 },
 "nbformat": 4,
 "nbformat_minor": 2
}
